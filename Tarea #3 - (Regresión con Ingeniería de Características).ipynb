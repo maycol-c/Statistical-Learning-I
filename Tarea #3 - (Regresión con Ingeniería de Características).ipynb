{
 "cells": [
  {
   "attachments": {},
   "cell_type": "markdown",
   "metadata": {},
   "source": [
    "#### Maestría en Inteligencia de Negocios y Análisis de Datos\n",
    "#### Tarea #3 - (Regresión con Ingeniería de Características)\n",
    "#### Maycol Córdova 22007865\n",
    "\n"
   ]
  },
  {
   "cell_type": "code",
   "execution_count": 1,
   "metadata": {},
   "outputs": [],
   "source": [
    "#Carga de librerias. \n",
    "import pandas as pd\n",
    "import numpy as np \n",
    "import matplotlib.pyplot as plt\n",
    "import seaborn as sns"
   ]
  },
  {
   "cell_type": "code",
   "execution_count": 2,
   "metadata": {},
   "outputs": [
    {
     "data": {
      "text/plain": [
       "(14447, 11)"
      ]
     },
     "execution_count": 2,
     "metadata": {},
     "output_type": "execute_result"
    }
   ],
   "source": [
    "#Importación Dataset\n",
    "data = pd.read_csv('train.csv')\n",
    "data.shape"
   ]
  },
  {
   "cell_type": "code",
   "execution_count": 3,
   "metadata": {},
   "outputs": [
    {
     "data": {
      "text/html": [
       "<div>\n",
       "<style scoped>\n",
       "    .dataframe tbody tr th:only-of-type {\n",
       "        vertical-align: middle;\n",
       "    }\n",
       "\n",
       "    .dataframe tbody tr th {\n",
       "        vertical-align: top;\n",
       "    }\n",
       "\n",
       "    .dataframe thead th {\n",
       "        text-align: right;\n",
       "    }\n",
       "</style>\n",
       "<table border=\"1\" class=\"dataframe\">\n",
       "  <thead>\n",
       "    <tr style=\"text-align: right;\">\n",
       "      <th></th>\n",
       "      <th>id</th>\n",
       "      <th>longitude</th>\n",
       "      <th>latitude</th>\n",
       "      <th>housing_median_age</th>\n",
       "      <th>total_rooms</th>\n",
       "      <th>total_bedrooms</th>\n",
       "      <th>population</th>\n",
       "      <th>households</th>\n",
       "      <th>median_income</th>\n",
       "      <th>median_house_value</th>\n",
       "      <th>ocean_proximity</th>\n",
       "    </tr>\n",
       "  </thead>\n",
       "  <tbody>\n",
       "    <tr>\n",
       "      <th>0</th>\n",
       "      <td>9744</td>\n",
       "      <td>-121.65</td>\n",
       "      <td>36.77</td>\n",
       "      <td>15</td>\n",
       "      <td>2191</td>\n",
       "      <td>358.0</td>\n",
       "      <td>1150</td>\n",
       "      <td>330</td>\n",
       "      <td>4.7969</td>\n",
       "      <td>227500.0</td>\n",
       "      <td>&lt;1H OCEAN</td>\n",
       "    </tr>\n",
       "    <tr>\n",
       "      <th>1</th>\n",
       "      <td>13893</td>\n",
       "      <td>-116.27</td>\n",
       "      <td>34.13</td>\n",
       "      <td>37</td>\n",
       "      <td>452</td>\n",
       "      <td>109.0</td>\n",
       "      <td>184</td>\n",
       "      <td>59</td>\n",
       "      <td>3.7292</td>\n",
       "      <td>65800.0</td>\n",
       "      <td>INLAND</td>\n",
       "    </tr>\n",
       "    <tr>\n",
       "      <th>2</th>\n",
       "      <td>18277</td>\n",
       "      <td>-122.07</td>\n",
       "      <td>37.34</td>\n",
       "      <td>35</td>\n",
       "      <td>1172</td>\n",
       "      <td>184.0</td>\n",
       "      <td>512</td>\n",
       "      <td>175</td>\n",
       "      <td>7.3561</td>\n",
       "      <td>500001.0</td>\n",
       "      <td>&lt;1H OCEAN</td>\n",
       "    </tr>\n",
       "    <tr>\n",
       "      <th>3</th>\n",
       "      <td>16176</td>\n",
       "      <td>-122.39</td>\n",
       "      <td>37.74</td>\n",
       "      <td>52</td>\n",
       "      <td>126</td>\n",
       "      <td>24.0</td>\n",
       "      <td>37</td>\n",
       "      <td>27</td>\n",
       "      <td>10.2264</td>\n",
       "      <td>225000.0</td>\n",
       "      <td>NEAR BAY</td>\n",
       "    </tr>\n",
       "    <tr>\n",
       "      <th>4</th>\n",
       "      <td>8843</td>\n",
       "      <td>-118.38</td>\n",
       "      <td>34.09</td>\n",
       "      <td>28</td>\n",
       "      <td>4001</td>\n",
       "      <td>1352.0</td>\n",
       "      <td>1799</td>\n",
       "      <td>1220</td>\n",
       "      <td>2.5784</td>\n",
       "      <td>272900.0</td>\n",
       "      <td>&lt;1H OCEAN</td>\n",
       "    </tr>\n",
       "    <tr>\n",
       "      <th>...</th>\n",
       "      <td>...</td>\n",
       "      <td>...</td>\n",
       "      <td>...</td>\n",
       "      <td>...</td>\n",
       "      <td>...</td>\n",
       "      <td>...</td>\n",
       "      <td>...</td>\n",
       "      <td>...</td>\n",
       "      <td>...</td>\n",
       "      <td>...</td>\n",
       "      <td>...</td>\n",
       "    </tr>\n",
       "    <tr>\n",
       "      <th>14442</th>\n",
       "      <td>557</td>\n",
       "      <td>-122.25</td>\n",
       "      <td>37.77</td>\n",
       "      <td>43</td>\n",
       "      <td>4329</td>\n",
       "      <td>1110.0</td>\n",
       "      <td>2086</td>\n",
       "      <td>1053</td>\n",
       "      <td>2.9750</td>\n",
       "      <td>243400.0</td>\n",
       "      <td>NEAR BAY</td>\n",
       "    </tr>\n",
       "    <tr>\n",
       "      <th>14443</th>\n",
       "      <td>16090</td>\n",
       "      <td>-122.48</td>\n",
       "      <td>37.71</td>\n",
       "      <td>43</td>\n",
       "      <td>3850</td>\n",
       "      <td>1018.0</td>\n",
       "      <td>1497</td>\n",
       "      <td>829</td>\n",
       "      <td>3.5296</td>\n",
       "      <td>400000.0</td>\n",
       "      <td>NEAR OCEAN</td>\n",
       "    </tr>\n",
       "    <tr>\n",
       "      <th>14444</th>\n",
       "      <td>9083</td>\n",
       "      <td>-118.17</td>\n",
       "      <td>34.69</td>\n",
       "      <td>12</td>\n",
       "      <td>4881</td>\n",
       "      <td>803.0</td>\n",
       "      <td>2188</td>\n",
       "      <td>724</td>\n",
       "      <td>4.1667</td>\n",
       "      <td>171900.0</td>\n",
       "      <td>INLAND</td>\n",
       "    </tr>\n",
       "    <tr>\n",
       "      <th>14445</th>\n",
       "      <td>13138</td>\n",
       "      <td>-121.44</td>\n",
       "      <td>38.47</td>\n",
       "      <td>5</td>\n",
       "      <td>5666</td>\n",
       "      <td>1178.0</td>\n",
       "      <td>3139</td>\n",
       "      <td>1131</td>\n",
       "      <td>3.3608</td>\n",
       "      <td>108900.0</td>\n",
       "      <td>INLAND</td>\n",
       "    </tr>\n",
       "    <tr>\n",
       "      <th>14446</th>\n",
       "      <td>11554</td>\n",
       "      <td>-117.98</td>\n",
       "      <td>33.74</td>\n",
       "      <td>29</td>\n",
       "      <td>3443</td>\n",
       "      <td>635.0</td>\n",
       "      <td>2257</td>\n",
       "      <td>620</td>\n",
       "      <td>4.7404</td>\n",
       "      <td>207500.0</td>\n",
       "      <td>&lt;1H OCEAN</td>\n",
       "    </tr>\n",
       "  </tbody>\n",
       "</table>\n",
       "<p>14447 rows × 11 columns</p>\n",
       "</div>"
      ],
      "text/plain": [
       "          id  longitude  latitude  housing_median_age  total_rooms  \\\n",
       "0       9744    -121.65     36.77                  15         2191   \n",
       "1      13893    -116.27     34.13                  37          452   \n",
       "2      18277    -122.07     37.34                  35         1172   \n",
       "3      16176    -122.39     37.74                  52          126   \n",
       "4       8843    -118.38     34.09                  28         4001   \n",
       "...      ...        ...       ...                 ...          ...   \n",
       "14442    557    -122.25     37.77                  43         4329   \n",
       "14443  16090    -122.48     37.71                  43         3850   \n",
       "14444   9083    -118.17     34.69                  12         4881   \n",
       "14445  13138    -121.44     38.47                   5         5666   \n",
       "14446  11554    -117.98     33.74                  29         3443   \n",
       "\n",
       "       total_bedrooms  population  households  median_income  \\\n",
       "0               358.0        1150         330         4.7969   \n",
       "1               109.0         184          59         3.7292   \n",
       "2               184.0         512         175         7.3561   \n",
       "3                24.0          37          27        10.2264   \n",
       "4              1352.0        1799        1220         2.5784   \n",
       "...               ...         ...         ...            ...   \n",
       "14442          1110.0        2086        1053         2.9750   \n",
       "14443          1018.0        1497         829         3.5296   \n",
       "14444           803.0        2188         724         4.1667   \n",
       "14445          1178.0        3139        1131         3.3608   \n",
       "14446           635.0        2257         620         4.7404   \n",
       "\n",
       "       median_house_value ocean_proximity  \n",
       "0                227500.0       <1H OCEAN  \n",
       "1                 65800.0          INLAND  \n",
       "2                500001.0       <1H OCEAN  \n",
       "3                225000.0        NEAR BAY  \n",
       "4                272900.0       <1H OCEAN  \n",
       "...                   ...             ...  \n",
       "14442            243400.0        NEAR BAY  \n",
       "14443            400000.0      NEAR OCEAN  \n",
       "14444            171900.0          INLAND  \n",
       "14445            108900.0          INLAND  \n",
       "14446            207500.0       <1H OCEAN  \n",
       "\n",
       "[14447 rows x 11 columns]"
      ]
     },
     "execution_count": 3,
     "metadata": {},
     "output_type": "execute_result"
    }
   ],
   "source": [
    "data\n"
   ]
  },
  {
   "attachments": {},
   "cell_type": "markdown",
   "metadata": {},
   "source": [
    "#### 1. Determine que columnas poseen faltantes (NA o Nulos), "
   ]
  },
  {
   "cell_type": "code",
   "execution_count": 4,
   "metadata": {},
   "outputs": [
    {
     "data": {
      "text/plain": [
       "['total_bedrooms']"
      ]
     },
     "execution_count": 4,
     "metadata": {},
     "output_type": "execute_result"
    }
   ],
   "source": [
    "#Validación de columnas que tiene NAN o datos que necesitan ser tratados o eliminados. \n",
    "cols_con_na = [col for col in data.columns if (data[col].isnull().mean() > 0)]\n",
    "cols_con_na"
   ]
  },
  {
   "cell_type": "code",
   "execution_count": 5,
   "metadata": {},
   "outputs": [
    {
     "data": {
      "text/plain": [
       "total_bedrooms    float64\n",
       "dtype: object"
      ]
     },
     "execution_count": 5,
     "metadata": {},
     "output_type": "execute_result"
    }
   ],
   "source": [
    "#Veidación de los tipos de datos que necesitan tratamiento o eliminación\n",
    "data[cols_con_na].dtypes"
   ]
  },
  {
   "attachments": {},
   "cell_type": "markdown",
   "metadata": {},
   "source": [
    "#### 2. Determine la proporción de faltantes para cada columna con faltantes, muestre una gráfica de barras."
   ]
  },
  {
   "cell_type": "code",
   "execution_count": 6,
   "metadata": {},
   "outputs": [
    {
     "data": {
      "text/plain": [
       "total_bedrooms    0.009483\n",
       "dtype: float64"
      ]
     },
     "execution_count": 6,
     "metadata": {},
     "output_type": "execute_result"
    }
   ],
   "source": [
    "#Verficacion de promedio de NAN que tiene cada columna, para poder tratar se toma base del 0.05\n",
    "prop_nan_per_col = data[cols_con_na].isnull().mean()\n",
    "prop_nan_per_col"
   ]
  },
  {
   "cell_type": "code",
   "execution_count": 7,
   "metadata": {},
   "outputs": [
    {
     "data": {
      "image/png": "[encoded data removed]",
      "text/plain": [
       "<Figure size 640x480 with 1 Axes>"
      ]
     },
     "metadata": {},
     "output_type": "display_data"
    }
   ],
   "source": [
    "missing_values = data['total_bedrooms'].isnull().sum()\n",
    "fig, ax = plt.subplots()\n",
    "values = [len(data) - missing_values, missing_values]\n",
    "labels = ['Valores presentes', 'Valores faltantes']\n",
    "ax.bar(labels, values)\n",
    "ax.set_xlabel('Valores')\n",
    "ax.set_ylabel('Cantidad')\n",
    "ax.set_title('Valores faltantes en total_bedrooms')\n",
    "plt.show()"
   ]
  },
  {
   "attachments": {},
   "cell_type": "markdown",
   "metadata": {},
   "source": [
    "#### 3. Si la variable es numérica realice un análisis de cual sería el mejor método para \n",
    "#### realizar la imputación de datos, debe mostrar un bloque de código donde se muestre \n",
    "#### cada imputación y su análisis. Recuerde que puede ser:\n",
    "#### a. Eliminar los faltantes, \n",
    "#### b. Imputación de media o mediana,\n",
    "#### c. Valores arbitrarios (extremo derecho y extremo izquierdo),\n",
    "#### d. Generación de números aleatorios en base a la distribución (no visto en clase)."
   ]
  },
  {
   "cell_type": "code",
   "execution_count": 8,
   "metadata": {},
   "outputs": [
    {
     "data": {
      "text/plain": [
       "['id',\n",
       " 'longitude',\n",
       " 'latitude',\n",
       " 'housing_median_age',\n",
       " 'total_rooms',\n",
       " 'total_bedrooms',\n",
       " 'population',\n",
       " 'households',\n",
       " 'median_income',\n",
       " 'median_house_value',\n",
       " 'ocean_proximity']"
      ]
     },
     "execution_count": 8,
     "metadata": {},
     "output_type": "execute_result"
    }
   ],
   "source": [
    "#Eliminacion, las que continen un mean mayor al 5%\n",
    "cols_rescatables = [col for col in data.columns if (data[col].isnull().mean() <= 0.05)]\n",
    "cols_rescatables"
   ]
  },
  {
   "cell_type": "code",
   "execution_count": 9,
   "metadata": {},
   "outputs": [
    {
     "data": {
      "text/plain": [
       "id                    0.000000\n",
       "longitude             0.000000\n",
       "latitude              0.000000\n",
       "housing_median_age    0.000000\n",
       "total_rooms           0.000000\n",
       "total_bedrooms        0.009483\n",
       "population            0.000000\n",
       "households            0.000000\n",
       "median_income         0.000000\n",
       "median_house_value    0.000000\n",
       "ocean_proximity       0.000000\n",
       "dtype: float64"
      ]
     },
     "execution_count": 9,
     "metadata": {},
     "output_type": "execute_result"
    }
   ],
   "source": [
    "#Verifación de las columnas a tratar \n",
    "Verifiacion = data[cols_rescatables].isnull().mean()\n",
    "Verifiacion"
   ]
  },
  {
   "attachments": {},
   "cell_type": "markdown",
   "metadata": {},
   "source": [
    "#### Se realiza aplicacion de CCA "
   ]
  },
  {
   "cell_type": "code",
   "execution_count": 10,
   "metadata": {},
   "outputs": [
    {
     "data": {
      "text/plain": [
       "((14447, 11), (14310, 11))"
      ]
     },
     "execution_count": 10,
     "metadata": {},
     "output_type": "execute_result"
    }
   ],
   "source": [
    "data_noNAN = data[cols_rescatables].dropna()\n",
    "data.shape, data_noNAN.shape"
   ]
  },
  {
   "attachments": {},
   "cell_type": "markdown",
   "metadata": {},
   "source": [
    "#### Se eliminan 137 rows y se procede a realizar la comparación"
   ]
  },
  {
   "cell_type": "code",
   "execution_count": null,
   "metadata": {},
   "outputs": [
    {
     "data": {
      "image/png": "[encoded data removed]",
      "text/plain": [
       "<Figure size 640x480 with 1 Axes>"
      ]
     },
     "metadata": {},
     "output_type": "display_data"
    }
   ],
   "source": [
    "#Comparación de dataset   \n",
    "data['total_bedrooms'].hist(bins=50, density=True, color='red', alpha=0.2)\n",
    "data_noNAN['total_bedrooms'].hist(bins=50, density=True, color='black', alpha=0.3)\n",
    "plt.show()"
   ]
  },
  {
   "cell_type": "code",
   "execution_count": 12,
   "metadata": {},
   "outputs": [
    {
     "data": {
      "image/png": "[encoded data removed]",
      "text/plain": [
       "<Figure size 640x480 with 1 Axes>"
      ]
     },
     "metadata": {},
     "output_type": "display_data"
    }
   ],
   "source": [
    "#Comparación de dataset    \n",
    "data['median_house_value'].hist(bins=50, density=True, color='red', alpha=0.2)\n",
    "data_noNAN['median_house_value'].hist(bins=50, density=True, color='blue', alpha=0.3)\n",
    "plt.show()"
   ]
  },
  {
   "attachments": {},
   "cell_type": "markdown",
   "metadata": {},
   "source": [
    "#### 4. Si la variable es categórica, realice una imputación que considere necesaria.\n",
    "#### No hay NA en la unica categorica"
   ]
  },
  {
   "attachments": {},
   "cell_type": "markdown",
   "metadata": {},
   "source": [
    "#### 5. Realice la codificación de variables categóricas, determine cual es le mejor enfoque para cada caso, recuerde que puede realizar los siguientes enfoques:\n",
    "#### a. One Hote Encodign.\n",
    "#### b. Codificación por Frecuencia.\n",
    "#### c. Codificación por Densidad."
   ]
  },
  {
   "cell_type": "code",
   "execution_count": 13,
   "metadata": {},
   "outputs": [],
   "source": [
    "def getCategoryVars(data):\n",
    "     cat_colnames = []\n",
    "     colnames = data.columns\n",
    "     for col in colnames:\n",
    "          if(data[col].dtype == 'object'):\n",
    "               cat_colnames.append(col)\n",
    "     return cat_colnames"
   ]
  },
  {
   "cell_type": "code",
   "execution_count": 14,
   "metadata": {},
   "outputs": [
    {
     "data": {
      "text/plain": [
       "['ocean_proximity']"
      ]
     },
     "execution_count": 14,
     "metadata": {},
     "output_type": "execute_result"
    }
   ],
   "source": [
    "cat_cols = getCategoryVars(data_noNAN)\n",
    "cat_cols"
   ]
  },
  {
   "cell_type": "code",
   "execution_count": 15,
   "metadata": {},
   "outputs": [],
   "source": [
    "cat_cols.append('median_house_value')"
   ]
  },
  {
   "cell_type": "code",
   "execution_count": 16,
   "metadata": {},
   "outputs": [
    {
     "data": {
      "text/html": [
       "<div>\n",
       "<style scoped>\n",
       "    .dataframe tbody tr th:only-of-type {\n",
       "        vertical-align: middle;\n",
       "    }\n",
       "\n",
       "    .dataframe tbody tr th {\n",
       "        vertical-align: top;\n",
       "    }\n",
       "\n",
       "    .dataframe thead th {\n",
       "        text-align: right;\n",
       "    }\n",
       "</style>\n",
       "<table border=\"1\" class=\"dataframe\">\n",
       "  <thead>\n",
       "    <tr style=\"text-align: right;\">\n",
       "      <th></th>\n",
       "      <th>ocean_proximity</th>\n",
       "      <th>median_house_value</th>\n",
       "    </tr>\n",
       "  </thead>\n",
       "  <tbody>\n",
       "    <tr>\n",
       "      <th>0</th>\n",
       "      <td>&lt;1H OCEAN</td>\n",
       "      <td>227500.0</td>\n",
       "    </tr>\n",
       "    <tr>\n",
       "      <th>1</th>\n",
       "      <td>INLAND</td>\n",
       "      <td>65800.0</td>\n",
       "    </tr>\n",
       "    <tr>\n",
       "      <th>2</th>\n",
       "      <td>&lt;1H OCEAN</td>\n",
       "      <td>500001.0</td>\n",
       "    </tr>\n",
       "    <tr>\n",
       "      <th>3</th>\n",
       "      <td>NEAR BAY</td>\n",
       "      <td>225000.0</td>\n",
       "    </tr>\n",
       "    <tr>\n",
       "      <th>4</th>\n",
       "      <td>&lt;1H OCEAN</td>\n",
       "      <td>272900.0</td>\n",
       "    </tr>\n",
       "  </tbody>\n",
       "</table>\n",
       "</div>"
      ],
      "text/plain": [
       "  ocean_proximity  median_house_value\n",
       "0       <1H OCEAN            227500.0\n",
       "1          INLAND             65800.0\n",
       "2       <1H OCEAN            500001.0\n",
       "3        NEAR BAY            225000.0\n",
       "4       <1H OCEAN            272900.0"
      ]
     },
     "execution_count": 16,
     "metadata": {},
     "output_type": "execute_result"
    }
   ],
   "source": [
    "dataset_categories = data_noNAN[cat_cols]\n",
    "dataset_categories.head()"
   ]
  },
  {
   "cell_type": "code",
   "execution_count": 17,
   "metadata": {},
   "outputs": [
    {
     "data": {
      "text/plain": [
       "<1H OCEAN     6320\n",
       "INLAND        4542\n",
       "NEAR OCEAN    1844\n",
       "NEAR BAY      1602\n",
       "ISLAND           2\n",
       "Name: ocean_proximity, dtype: int64"
      ]
     },
     "execution_count": 17,
     "metadata": {},
     "output_type": "execute_result"
    }
   ],
   "source": [
    "# Frequency Encoding\n",
    "dataset_categories['ocean_proximity'].value_counts().sort_values(ascending=False)"
   ]
  },
  {
   "cell_type": "code",
   "execution_count": 18,
   "metadata": {},
   "outputs": [
    {
     "data": {
      "image/png": "[encoded data removed]",
      "text/plain": [
       "<Figure size 640x480 with 1 Axes>"
      ]
     },
     "metadata": {},
     "output_type": "display_data"
    }
   ],
   "source": [
    "sns.boxplot(x=dataset_categories['ocean_proximity'], y=dataset_categories['median_house_value'])\n",
    "plt.show()"
   ]
  },
  {
   "cell_type": "code",
   "execution_count": 19,
   "metadata": {},
   "outputs": [
    {
     "data": {
      "text/plain": [
       "{'<1H OCEAN': 6320,\n",
       " 'INLAND': 4542,\n",
       " 'NEAR OCEAN': 1844,\n",
       " 'NEAR BAY': 1602,\n",
       " 'ISLAND': 2}"
      ]
     },
     "execution_count": 19,
     "metadata": {},
     "output_type": "execute_result"
    }
   ],
   "source": [
    "ocean_proximity_freq_mapper = (dataset_categories['ocean_proximity'].value_counts().sort_values(ascending=False)).to_dict()\n",
    "ocean_proximity_freq_mapper"
   ]
  },
  {
   "attachments": {},
   "cell_type": "markdown",
   "metadata": {},
   "source": [
    "#### 6. Para todas las variables resultantes realice Feature Scaling según lo considere más pertinente."
   ]
  },
  {
   "cell_type": "code",
   "execution_count": 21,
   "metadata": {},
   "outputs": [
    {
     "data": {
      "text/html": [
       "<div>\n",
       "<style scoped>\n",
       "    .dataframe tbody tr th:only-of-type {\n",
       "        vertical-align: middle;\n",
       "    }\n",
       "\n",
       "    .dataframe tbody tr th {\n",
       "        vertical-align: top;\n",
       "    }\n",
       "\n",
       "    .dataframe thead th {\n",
       "        text-align: right;\n",
       "    }\n",
       "</style>\n",
       "<table border=\"1\" class=\"dataframe\">\n",
       "  <thead>\n",
       "    <tr style=\"text-align: right;\">\n",
       "      <th></th>\n",
       "      <th>longitude</th>\n",
       "      <th>latitude</th>\n",
       "      <th>housing_median_age</th>\n",
       "      <th>total_rooms</th>\n",
       "      <th>total_bedrooms</th>\n",
       "      <th>population</th>\n",
       "      <th>households</th>\n",
       "      <th>median_income</th>\n",
       "      <th>median_house_value</th>\n",
       "      <th>ocean_proximity_code</th>\n",
       "    </tr>\n",
       "  </thead>\n",
       "  <tbody>\n",
       "    <tr>\n",
       "      <th>0</th>\n",
       "      <td>-121.65</td>\n",
       "      <td>36.77</td>\n",
       "      <td>15</td>\n",
       "      <td>2191</td>\n",
       "      <td>358.0</td>\n",
       "      <td>1150</td>\n",
       "      <td>330</td>\n",
       "      <td>4.7969</td>\n",
       "      <td>227500.0</td>\n",
       "      <td>6320</td>\n",
       "    </tr>\n",
       "    <tr>\n",
       "      <th>1</th>\n",
       "      <td>-116.27</td>\n",
       "      <td>34.13</td>\n",
       "      <td>37</td>\n",
       "      <td>452</td>\n",
       "      <td>109.0</td>\n",
       "      <td>184</td>\n",
       "      <td>59</td>\n",
       "      <td>3.7292</td>\n",
       "      <td>65800.0</td>\n",
       "      <td>4542</td>\n",
       "    </tr>\n",
       "    <tr>\n",
       "      <th>2</th>\n",
       "      <td>-122.07</td>\n",
       "      <td>37.34</td>\n",
       "      <td>35</td>\n",
       "      <td>1172</td>\n",
       "      <td>184.0</td>\n",
       "      <td>512</td>\n",
       "      <td>175</td>\n",
       "      <td>7.3561</td>\n",
       "      <td>500001.0</td>\n",
       "      <td>6320</td>\n",
       "    </tr>\n",
       "    <tr>\n",
       "      <th>3</th>\n",
       "      <td>-122.39</td>\n",
       "      <td>37.74</td>\n",
       "      <td>52</td>\n",
       "      <td>126</td>\n",
       "      <td>24.0</td>\n",
       "      <td>37</td>\n",
       "      <td>27</td>\n",
       "      <td>10.2264</td>\n",
       "      <td>225000.0</td>\n",
       "      <td>1602</td>\n",
       "    </tr>\n",
       "    <tr>\n",
       "      <th>4</th>\n",
       "      <td>-118.38</td>\n",
       "      <td>34.09</td>\n",
       "      <td>28</td>\n",
       "      <td>4001</td>\n",
       "      <td>1352.0</td>\n",
       "      <td>1799</td>\n",
       "      <td>1220</td>\n",
       "      <td>2.5784</td>\n",
       "      <td>272900.0</td>\n",
       "      <td>6320</td>\n",
       "    </tr>\n",
       "    <tr>\n",
       "      <th>...</th>\n",
       "      <td>...</td>\n",
       "      <td>...</td>\n",
       "      <td>...</td>\n",
       "      <td>...</td>\n",
       "      <td>...</td>\n",
       "      <td>...</td>\n",
       "      <td>...</td>\n",
       "      <td>...</td>\n",
       "      <td>...</td>\n",
       "      <td>...</td>\n",
       "    </tr>\n",
       "    <tr>\n",
       "      <th>14442</th>\n",
       "      <td>-122.25</td>\n",
       "      <td>37.77</td>\n",
       "      <td>43</td>\n",
       "      <td>4329</td>\n",
       "      <td>1110.0</td>\n",
       "      <td>2086</td>\n",
       "      <td>1053</td>\n",
       "      <td>2.9750</td>\n",
       "      <td>243400.0</td>\n",
       "      <td>1602</td>\n",
       "    </tr>\n",
       "    <tr>\n",
       "      <th>14443</th>\n",
       "      <td>-122.48</td>\n",
       "      <td>37.71</td>\n",
       "      <td>43</td>\n",
       "      <td>3850</td>\n",
       "      <td>1018.0</td>\n",
       "      <td>1497</td>\n",
       "      <td>829</td>\n",
       "      <td>3.5296</td>\n",
       "      <td>400000.0</td>\n",
       "      <td>1844</td>\n",
       "    </tr>\n",
       "    <tr>\n",
       "      <th>14444</th>\n",
       "      <td>-118.17</td>\n",
       "      <td>34.69</td>\n",
       "      <td>12</td>\n",
       "      <td>4881</td>\n",
       "      <td>803.0</td>\n",
       "      <td>2188</td>\n",
       "      <td>724</td>\n",
       "      <td>4.1667</td>\n",
       "      <td>171900.0</td>\n",
       "      <td>4542</td>\n",
       "    </tr>\n",
       "    <tr>\n",
       "      <th>14445</th>\n",
       "      <td>-121.44</td>\n",
       "      <td>38.47</td>\n",
       "      <td>5</td>\n",
       "      <td>5666</td>\n",
       "      <td>1178.0</td>\n",
       "      <td>3139</td>\n",
       "      <td>1131</td>\n",
       "      <td>3.3608</td>\n",
       "      <td>108900.0</td>\n",
       "      <td>4542</td>\n",
       "    </tr>\n",
       "    <tr>\n",
       "      <th>14446</th>\n",
       "      <td>-117.98</td>\n",
       "      <td>33.74</td>\n",
       "      <td>29</td>\n",
       "      <td>3443</td>\n",
       "      <td>635.0</td>\n",
       "      <td>2257</td>\n",
       "      <td>620</td>\n",
       "      <td>4.7404</td>\n",
       "      <td>207500.0</td>\n",
       "      <td>6320</td>\n",
       "    </tr>\n",
       "  </tbody>\n",
       "</table>\n",
       "<p>14310 rows × 10 columns</p>\n",
       "</div>"
      ],
      "text/plain": [
       "       longitude  latitude  housing_median_age  total_rooms  total_bedrooms  \\\n",
       "0        -121.65     36.77                  15         2191           358.0   \n",
       "1        -116.27     34.13                  37          452           109.0   \n",
       "2        -122.07     37.34                  35         1172           184.0   \n",
       "3        -122.39     37.74                  52          126            24.0   \n",
       "4        -118.38     34.09                  28         4001          1352.0   \n",
       "...          ...       ...                 ...          ...             ...   \n",
       "14442    -122.25     37.77                  43         4329          1110.0   \n",
       "14443    -122.48     37.71                  43         3850          1018.0   \n",
       "14444    -118.17     34.69                  12         4881           803.0   \n",
       "14445    -121.44     38.47                   5         5666          1178.0   \n",
       "14446    -117.98     33.74                  29         3443           635.0   \n",
       "\n",
       "       population  households  median_income  median_house_value  \\\n",
       "0            1150         330         4.7969            227500.0   \n",
       "1             184          59         3.7292             65800.0   \n",
       "2             512         175         7.3561            500001.0   \n",
       "3              37          27        10.2264            225000.0   \n",
       "4            1799        1220         2.5784            272900.0   \n",
       "...           ...         ...            ...                 ...   \n",
       "14442        2086        1053         2.9750            243400.0   \n",
       "14443        1497         829         3.5296            400000.0   \n",
       "14444        2188         724         4.1667            171900.0   \n",
       "14445        3139        1131         3.3608            108900.0   \n",
       "14446        2257         620         4.7404            207500.0   \n",
       "\n",
       "       ocean_proximity_code  \n",
       "0                      6320  \n",
       "1                      4542  \n",
       "2                      6320  \n",
       "3                      1602  \n",
       "4                      6320  \n",
       "...                     ...  \n",
       "14442                  1602  \n",
       "14443                  1844  \n",
       "14444                  4542  \n",
       "14445                  4542  \n",
       "14446                  6320  \n",
       "\n",
       "[14310 rows x 10 columns]"
      ]
     },
     "execution_count": 21,
     "metadata": {},
     "output_type": "execute_result"
    }
   ],
   "source": [
    "data_noNAN.drop('ocean_proximity', axis=1, inplace=True) \n",
    "data_noNAN.drop('id', axis=1, inplace=True)  \n",
    "data_noNAN = pd.concat([data_noNAN, dataset_categories['ocean_proximity_code']], axis=1)  \n",
    "data_noNAN\n"
   ]
  },
  {
   "cell_type": "code",
   "execution_count": 22,
   "metadata": {},
   "outputs": [],
   "source": [
    "from sklearn.preprocessing import StandardScaler"
   ]
  },
  {
   "cell_type": "code",
   "execution_count": 23,
   "metadata": {},
   "outputs": [],
   "source": [
    "def getColumnTypes(dataset):\n",
    "     ''' Descripcion: Esta función extrae el tipo de dominio de las columnas de un dataset.\n",
    "         Entradas: Pandas Dataframe  \n",
    "         Salida: Tupla con arreglo que contine nombres de las columnas. '''\n",
    "     \n",
    "     continuas = []\n",
    "     discretas = []\n",
    "     categoricas = []\n",
    "     for col in dataset.columns:\n",
    "          if((dataset[col].dtype == 'int64') or (dataset[col].dtype == 'float64')):\n",
    "               if(len(dataset[col].unique()) > 30): #criterio para discretas o continuas\n",
    "                    continuas.append(col)\n",
    "               else:\n",
    "                    discretas.append(col)\n",
    "          else:\n",
    "               categoricas.append(col)\n",
    "\n",
    "     return continuas, discretas, categoricas"
   ]
  },
  {
   "cell_type": "code",
   "execution_count": 24,
   "metadata": {},
   "outputs": [
    {
     "name": "stdout",
     "output_type": "stream",
     "text": [
      "['longitude', 'latitude', 'housing_median_age', 'total_rooms', 'total_bedrooms', 'population', 'households', 'median_income', 'median_house_value']\n",
      "['ocean_proximity_code']\n",
      "[]\n"
     ]
    }
   ],
   "source": [
    "continuas, discretas, categoricas = getColumnTypes(data_noNAN)\n",
    "print(continuas)\n",
    "print(discretas)\n",
    "print(categoricas)"
   ]
  },
  {
   "cell_type": "code",
   "execution_count": 29,
   "metadata": {},
   "outputs": [],
   "source": [
    "data_temp = data_noNAN\n",
    "scaler = StandardScaler()\n",
    "scaler.fit(data_temp) \n",
    "\n",
    "data_scaled = scaler.transform(data_temp)\n",
    "data_scaled = pd.DataFrame(data_scaled, columns=data_temp.columns)"
   ]
  },
  {
   "cell_type": "code",
   "execution_count": 33,
   "metadata": {},
   "outputs": [
    {
     "data": {
      "text/html": [
       "<div>\n",
       "<style scoped>\n",
       "    .dataframe tbody tr th:only-of-type {\n",
       "        vertical-align: middle;\n",
       "    }\n",
       "\n",
       "    .dataframe tbody tr th {\n",
       "        vertical-align: top;\n",
       "    }\n",
       "\n",
       "    .dataframe thead th {\n",
       "        text-align: right;\n",
       "    }\n",
       "</style>\n",
       "<table border=\"1\" class=\"dataframe\">\n",
       "  <thead>\n",
       "    <tr style=\"text-align: right;\">\n",
       "      <th></th>\n",
       "      <th>longitude</th>\n",
       "      <th>latitude</th>\n",
       "      <th>housing_median_age</th>\n",
       "      <th>total_rooms</th>\n",
       "      <th>total_bedrooms</th>\n",
       "      <th>population</th>\n",
       "      <th>households</th>\n",
       "      <th>median_income</th>\n",
       "      <th>median_house_value</th>\n",
       "      <th>ocean_proximity_code</th>\n",
       "    </tr>\n",
       "  </thead>\n",
       "  <tbody>\n",
       "    <tr>\n",
       "      <th>count</th>\n",
       "      <td>14310.000000</td>\n",
       "      <td>14310.000000</td>\n",
       "      <td>14310.000000</td>\n",
       "      <td>14310.000000</td>\n",
       "      <td>14310.000000</td>\n",
       "      <td>14310.000000</td>\n",
       "      <td>14310.000000</td>\n",
       "      <td>14310.000000</td>\n",
       "      <td>14310.000000</td>\n",
       "      <td>14310.000000</td>\n",
       "    </tr>\n",
       "    <tr>\n",
       "      <th>mean</th>\n",
       "      <td>0.000000</td>\n",
       "      <td>-0.000000</td>\n",
       "      <td>0.000000</td>\n",
       "      <td>-0.000000</td>\n",
       "      <td>0.000000</td>\n",
       "      <td>0.000000</td>\n",
       "      <td>0.000000</td>\n",
       "      <td>-0.000000</td>\n",
       "      <td>-0.000000</td>\n",
       "      <td>-0.000000</td>\n",
       "    </tr>\n",
       "    <tr>\n",
       "      <th>std</th>\n",
       "      <td>1.000035</td>\n",
       "      <td>1.000035</td>\n",
       "      <td>1.000035</td>\n",
       "      <td>1.000035</td>\n",
       "      <td>1.000035</td>\n",
       "      <td>1.000035</td>\n",
       "      <td>1.000035</td>\n",
       "      <td>1.000035</td>\n",
       "      <td>1.000035</td>\n",
       "      <td>1.000035</td>\n",
       "    </tr>\n",
       "    <tr>\n",
       "      <th>min</th>\n",
       "      <td>-2.356618</td>\n",
       "      <td>-1.452501</td>\n",
       "      <td>-2.212354</td>\n",
       "      <td>-1.186892</td>\n",
       "      <td>-1.265995</td>\n",
       "      <td>-1.262399</td>\n",
       "      <td>-1.292801</td>\n",
       "      <td>-1.776900</td>\n",
       "      <td>-1.663530</td>\n",
       "      <td>-2.561224</td>\n",
       "    </tr>\n",
       "    <tr>\n",
       "      <th>25%</th>\n",
       "      <td>-1.108630</td>\n",
       "      <td>-0.801589</td>\n",
       "      <td>-0.861930</td>\n",
       "      <td>-0.536453</td>\n",
       "      <td>-0.572595</td>\n",
       "      <td>-0.568053</td>\n",
       "      <td>-0.569738</td>\n",
       "      <td>-0.685145</td>\n",
       "      <td>-0.758422</td>\n",
       "      <td>-0.059415</td>\n",
       "    </tr>\n",
       "    <tr>\n",
       "      <th>50%</th>\n",
       "      <td>0.538715</td>\n",
       "      <td>-0.647056</td>\n",
       "      <td>0.011874</td>\n",
       "      <td>-0.231968</td>\n",
       "      <td>-0.247121</td>\n",
       "      <td>-0.232452</td>\n",
       "      <td>-0.238010</td>\n",
       "      <td>-0.173217</td>\n",
       "      <td>-0.235650</td>\n",
       "      <td>-0.059415</td>\n",
       "    </tr>\n",
       "    <tr>\n",
       "      <th>75%</th>\n",
       "      <td>0.778329</td>\n",
       "      <td>0.973199</td>\n",
       "      <td>0.647368</td>\n",
       "      <td>0.225773</td>\n",
       "      <td>0.257599</td>\n",
       "      <td>0.263382</td>\n",
       "      <td>0.269948</td>\n",
       "      <td>0.453818</td>\n",
       "      <td>0.500394</td>\n",
       "      <td>0.920369</td>\n",
       "    </tr>\n",
       "    <tr>\n",
       "      <th>max</th>\n",
       "      <td>2.630343</td>\n",
       "      <td>2.954031</td>\n",
       "      <td>1.838919</td>\n",
       "      <td>16.535874</td>\n",
       "      <td>13.932205</td>\n",
       "      <td>24.161349</td>\n",
       "      <td>14.466864</td>\n",
       "      <td>5.882052</td>\n",
       "      <td>2.541210</td>\n",
       "      <td>0.920369</td>\n",
       "    </tr>\n",
       "  </tbody>\n",
       "</table>\n",
       "</div>"
      ],
      "text/plain": [
       "          longitude      latitude  housing_median_age   total_rooms  \\\n",
       "count  14310.000000  14310.000000        14310.000000  14310.000000   \n",
       "mean       0.000000     -0.000000            0.000000     -0.000000   \n",
       "std        1.000035      1.000035            1.000035      1.000035   \n",
       "min       -2.356618     -1.452501           -2.212354     -1.186892   \n",
       "25%       -1.108630     -0.801589           -0.861930     -0.536453   \n",
       "50%        0.538715     -0.647056            0.011874     -0.231968   \n",
       "75%        0.778329      0.973199            0.647368      0.225773   \n",
       "max        2.630343      2.954031            1.838919     16.535874   \n",
       "\n",
       "       total_bedrooms    population    households  median_income  \\\n",
       "count    14310.000000  14310.000000  14310.000000   14310.000000   \n",
       "mean         0.000000      0.000000      0.000000      -0.000000   \n",
       "std          1.000035      1.000035      1.000035       1.000035   \n",
       "min         -1.265995     -1.262399     -1.292801      -1.776900   \n",
       "25%         -0.572595     -0.568053     -0.569738      -0.685145   \n",
       "50%         -0.247121     -0.232452     -0.238010      -0.173217   \n",
       "75%          0.257599      0.263382      0.269948       0.453818   \n",
       "max         13.932205     24.161349     14.466864       5.882052   \n",
       "\n",
       "       median_house_value  ocean_proximity_code  \n",
       "count        14310.000000          14310.000000  \n",
       "mean            -0.000000             -0.000000  \n",
       "std              1.000035              1.000035  \n",
       "min             -1.663530             -2.561224  \n",
       "25%             -0.758422             -0.059415  \n",
       "50%             -0.235650             -0.059415  \n",
       "75%              0.500394              0.920369  \n",
       "max              2.541210              0.920369  "
      ]
     },
     "execution_count": 33,
     "metadata": {},
     "output_type": "execute_result"
    }
   ],
   "source": [
    "round(data_scaled.describe(), 9)"
   ]
  },
  {
   "cell_type": "code",
   "execution_count": 36,
   "metadata": {},
   "outputs": [
    {
     "data": {
      "image/png": "[encoded data removed]",
      "text/plain": [
       "<Figure size 1200x500 with 2 Axes>"
      ]
     },
     "metadata": {},
     "output_type": "display_data"
    }
   ],
   "source": [
    "fig, (ax1, ax2) = plt.subplots(ncols=2, figsize=(12, 5))\n",
    "\n",
    "ax1.set_title(\"Sin Escala\")\n",
    "sns.kdeplot(data_temp['median_income'], ax=ax1, label=\"median_income\")\n",
    "sns.kdeplot(data_temp['median_house_value'], ax=ax1, label=\"median_house_value\")\n",
    "\n",
    "ax2.set_title(\"Con Escala\")\n",
    "sns.kdeplot(data_scaled['median_income'], ax=ax2, label=\"median_income\")\n",
    "sns.kdeplot(data_scaled['median_house_value'], ax=ax2, label=\"median_house_value\")\n",
    "\n",
    "ax1.legend()\n",
    "ax2.legend()\n",
    "\n",
    "plt.show()"
   ]
  }
 ],
 "metadata": {
  "kernelspec": {
   "display_name": "analytics_env",
   "language": "python",
   "name": "python3"
  },
  "language_info": {
   "codemirror_mode": {
    "name": "ipython",
    "version": 3
   },
   "file_extension": ".py",
   "mimetype": "text/x-python",
   "name": "python",
   "nbconvert_exporter": "python",
   "pygments_lexer": "ipython3",
   "version": "3.8.16"
  },
  "orig_nbformat": 4
 },
 "nbformat": 4,
 "nbformat_minor": 2
}
